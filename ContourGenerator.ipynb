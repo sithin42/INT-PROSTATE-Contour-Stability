{
  "nbformat": 4,
  "nbformat_minor": 0,
  "metadata": {
    "kernelspec": {
      "display_name": "Python 3",
      "language": "python",
      "name": "python3"
    },
    "language_info": {
      "codemirror_mode": {
        "name": "ipython",
        "version": 3
      },
      "file_extension": ".py",
      "mimetype": "text/x-python",
      "name": "python",
      "nbconvert_exporter": "python",
      "pygments_lexer": "ipython3",
      "version": "3.7.6"
    },
    "colab": {
      "name": "ContourGenerator.ipynb",
      "provenance": [],
      "include_colab_link": true
    }
  },
  "cells": [
    {
      "cell_type": "markdown",
      "metadata": {
        "id": "view-in-github",
        "colab_type": "text"
      },
      "source": [
        "<a href=\"https://colab.research.google.com/github/sithin42/INT-PROSTATE-Contour-Stability/blob/main/ContourGenerator.ipynb\" target=\"_parent\"><img src=\"https://colab.research.google.com/assets/colab-badge.svg\" alt=\"Open In Colab\"/></a>"
      ]
    },
    {
      "cell_type": "code",
      "metadata": {
        "id": "CNemjJnGiOHx"
      },
      "source": [
        "try:\n",
        "  import google.colab\n",
        "  IN_COLAB = True\n",
        "except:\n",
        "  IN_COLAB = False"
      ],
      "execution_count": null,
      "outputs": []
    },
    {
      "cell_type": "code",
      "metadata": {
        "id": "1rfcjWFT9jhN"
      },
      "source": [
        "#Requirements \n",
        "!pip install torchio\n",
        "!pip install SimpleITK\n",
        "!pip install scikit-image\n",
        "!pip install scipy\n",
        "!pip install torch\n"
      ],
      "execution_count": null,
      "outputs": []
    },
    {
      "cell_type": "code",
      "metadata": {
        "id": "YKhKN3YuBOt7"
      },
      "source": [
        "#Loading the example data from github\n",
        "if IN_COLAB:\n",
        "  !git clone https://github.com/sithin42/int_prostate-contour_aug.git"
      ],
      "execution_count": null,
      "outputs": []
    },
    {
      "cell_type": "code",
      "metadata": {
        "id": "jxMF-tYy9b8L"
      },
      "source": [
        "import torchio as tio\n",
        "import torch\n",
        "import os\n",
        "import SimpleITK as sitk\n",
        "from tqdm import tqdm\n",
        "import numpy as np\n",
        "from concurrent.futures import ThreadPoolExecutor\n",
        "from skimage import measure\n",
        "import scipy\n",
        "\n",
        "from ipywidgets import widgets, interact\n",
        "import matplotlib.pyplot as plt"
      ],
      "execution_count": null,
      "outputs": []
    },
    {
      "cell_type": "markdown",
      "metadata": {
        "id": "9uZWAtyY9b8W"
      },
      "source": [
        "# Data IO"
      ]
    },
    {
      "cell_type": "code",
      "metadata": {
        "id": "xT2nV8b29b8Z"
      },
      "source": [
        "if IN_COLAB:\n",
        "  img_path = r\"./int_prostate-contour_aug/data/PCAMPMRI-00001/image.nii.gz\"\n",
        "  mask_path = r\"./int_prostate-contour_aug/data/PCAMPMRI-00001/mask.nii.gz\"\n",
        "else:\n",
        "  img_path = r\"./data/PCAMPMRI-00001/image.nii.gz\"\n",
        "  mask_path = r\"./data/PCAMPMRI-00001/mask.nii.gz\"\n",
        "  \n",
        "sub = tio.Subject(img=tio.ScalarImage(img_path),mask=tio.LabelMap(mask_path))\n",
        "sub.plot()#Fast Visualization"
      ],
      "execution_count": null,
      "outputs": []
    },
    {
      "cell_type": "code",
      "metadata": {
        "id": "Li8NHQDC9b8d"
      },
      "source": [
        "#Interactive Visualization\n",
        "\n",
        "sitk_img = sitk.ReadImage(img_path)\n",
        "sitk_mask = sitk.ReadImage(mask_path)\n",
        "\n",
        "img_arr = sitk.GetArrayFromImage(sitk_img)#Z,X,Y\n",
        "mask_arr = sitk.GetArrayFromImage(sitk_mask)\n",
        "\n",
        "spacing_W, spacing_H, _ = sitk_img.GetSpacing()\n",
        "\n",
        "def visualize(i):\n",
        "    \n",
        "    plt.imshow(img_arr[i],cmap='gray')\n",
        "    if mask_arr[i].sum()>0:\n",
        "        plt.contour(mask_arr[i])\n",
        "    plt.show()\n",
        "    \n",
        "interact(visualize, i=widgets.IntSlider(len(mask_arr)//2,0,len(mask_arr),1))"
      ],
      "execution_count": null,
      "outputs": []
    },
    {
      "cell_type": "markdown",
      "metadata": {
        "id": "X7PnL7bF9b8f"
      },
      "source": [
        "# Contour Augmentation Functions"
      ]
    },
    {
      "cell_type": "code",
      "metadata": {
        "id": "XTpJZ1ZI9b8g"
      },
      "source": [
        "class ContourInPlaneAug(object):\n",
        "    \n",
        "    def __init__(self, w_spacing, h_spacing, w_stdMM,h_stdMM, angle, ob_type=\"random\"): \n",
        "        '''\n",
        "        w_spacing, h_spacing represents the spacing of the input image\n",
        "        \n",
        "        w_aMM, w_bMM are the measurements in MM; acts as the bound for variability along the in-plane directions\n",
        "        \n",
        "        angle - rotate Z such that ~ U(-angle,angle)\n",
        "        \n",
        "        ob_type specifies the bias types; can be either 'random' or 'systematic'\n",
        "        '''\n",
        "        \n",
        "        \n",
        "        self.w_spacing = w_spacing\n",
        "        self.h_spacing = h_spacing\n",
        "        \n",
        "        self.w_stdMM = w_stdMM\n",
        "        self.h_stdMM = h_stdMM\n",
        "        self.angle = angle\n",
        "        \n",
        "        self.ob_type = ob_type\n",
        "    \n",
        "    def __call__(self, mask):  \n",
        "        \n",
        "        sys_type = np.random.choice([\"inc\",\"dec\"]) #will only be considered if the bias type is systematic; \n",
        "\n",
        "        out_mask = torch.zeros_like(mask)\n",
        "        \n",
        "        z_indeces = [i.item() for i in torch.where(mask)[1].unique()] #To identify the slices where the ROI is present\n",
        "        \n",
        "        for z in z_indeces:\n",
        "            \n",
        "            if self.ob_type==\"random\":\n",
        "                w_stdVOX = np.ceil(np.random.uniform(-self.w_stdMM,self.w_stdMM)/self.w_spacing) #conversion to equivalent voxels\n",
        "                h_stdVOX = np.ceil(np.random.uniform(-self.h_stdMM,self.h_stdMM)/self.h_spacing)\n",
        "                \n",
        "            elif self.ob_type==\"systematic\":\n",
        "                \n",
        "                if sys_type == \"inc\":\n",
        "                    w_stdVOX = np.ceil(np.random.uniform(0,self.w_stdMM)/self.w_spacing)\n",
        "                    h_stdVOX = np.ceil(np.random.uniform(0,self.h_stdMM)/self.h_spacing)\n",
        "                else:\n",
        "                    w_stdVOX = np.ceil(np.random.uniform(-self.w_stdMM,0)/self.w_spacing)\n",
        "                    h_stdVOX = np.ceil(np.random.uniform(-self.h_stdMM,0)/self.h_spacing)\n",
        "            \n",
        "            props = measure.regionprops(mask[0,z].data.numpy())\n",
        "            w_min,h_min,w_max,h_max = props[0].bbox\n",
        "\n",
        "            dw = w_max - w_min\n",
        "            dh = h_max - h_min\n",
        "\n",
        "            aug_dw = dw + w_stdVOX \n",
        "            aug_dh = dh + h_stdVOX \n",
        "\n",
        "            factor_w  = np.round(aug_dw/dw,2)\n",
        "            factor_h = np.round(aug_dh/dh,2)\n",
        "            \n",
        "            if factor_w<=0:\n",
        "                continue;\n",
        "            \n",
        "            if factor_h<=0:\n",
        "                continue;\n",
        "            \n",
        "            scales = (1,1,factor_w,factor_w,factor_h,factor_h)#Z,Z,X,X,Y,Y\n",
        "        \n",
        "            degrees = (-self.angle, self.angle, 0, 0, 0, 0)#Z,X,X,Y,Y\n",
        "\n",
        "            transform = tio.RandomAffine(scales=scales,degrees=degrees,p=1)\n",
        "\n",
        "            out_mask[0,z] = transform(mask[0,z].unsqueeze(0).unsqueeze(0))[0,0]\n",
        "            \n",
        "           \n",
        "        \n",
        "        out_mask[out_mask>0.5] = 1\n",
        "        out_mask[out_mask<=0.5] = 0\n",
        "        \n",
        "        \n",
        "        return out_mask\n",
        "        \n",
        "        "
      ],
      "execution_count": null,
      "outputs": []
    },
    {
      "cell_type": "code",
      "metadata": {
        "id": "5nIdlw3g9b8l"
      },
      "source": [
        "class ContourOutPlaneAug(object):\n",
        "    \n",
        "    def __init__(self, scale_a, scale_b,angle, delta_z):\n",
        "        \n",
        "        '''\n",
        "        scale_a, scale_b and angle are transformation params and is only used when we synthesize masks beyond the GT boundaries\n",
        "        \n",
        "        delta_z is the maximum shift or out-plane augmentation allowed\n",
        "        '''\n",
        "        \n",
        "        self.scale_a = scale_a\n",
        "        self.scale_b = scale_b\n",
        "        self.angle = angle\n",
        "        \n",
        "        self.delta_z = delta_z\n",
        "        \n",
        "    def __call__(self, mask):\n",
        "        \n",
        "        mask = mask.clone()\n",
        "    \n",
        "        aug_num_slices = np.random.randint(0, self.delta_z+1) #low, high (excluded high)\n",
        "        \n",
        "        z_indeces = [i.item() for i in torch.where(mask)[1].unique()]\n",
        "        \n",
        "        z_min, z_max = min(z_indeces), max(z_indeces)\n",
        "        \n",
        "        for i in range(aug_num_slices):\n",
        "        \n",
        "            dz = z_max-z_min\n",
        "\n",
        "            if dz>0: \n",
        "\n",
        "                ref_z = np.random.choice([z_min,z_max])\n",
        "                \n",
        "                flag = -1 if ref_z==z_min else 1\n",
        "\n",
        "                aug_type = \"del\" if np.random.uniform()>0.5 else \"add\"\n",
        "            \n",
        "                if mask[0,ref_z].sum()>0: #which means contour exists in that place, possible that it got deleted during iteration\n",
        "                \n",
        "                    if aug_type==\"del\":\n",
        "                        if ref_z+flag in range(mask.shape[1]):\n",
        "                            if mask[0,ref_z+flag].sum()==0:#to check if new contours were inserted up or down\n",
        "                                mask[0,ref_z] = torch.zeros(*mask[0,ref_z].shape)\n",
        "                                \n",
        "                        else:#if ref_z+flag is outside the boundary\n",
        "                            mask[0, ref_z] = torch.zeros(*mask[0,ref_z].shape)\n",
        "\n",
        "                    elif aug_type==\"add\":\n",
        "\n",
        "                        if ref_z+flag in range(mask.shape[1]):\n",
        "                            \n",
        "                            if mask[0,ref_z+flag].sum()==0:\n",
        "\n",
        "                                scales =(1,1,self.scale_a,self.scale_b,self.scale_a,self.scale_b)\n",
        "                                degrees = (-self.angle, self.angle,0,0,0,0)\n",
        "\n",
        "                                transform = tio.RandomAffine(scales=scales,degrees=degrees,p=1)\n",
        "\n",
        "                                mask[0,ref_z+flag] = transform(mask[0,ref_z].unsqueeze(0).unsqueeze(0))[0,0]\n",
        "\n",
        "        mask[mask>0.5] = 1\n",
        "        mask[mask<=0.5] = 0\n",
        "        \n",
        "        return mask\n",
        "   \n"
      ],
      "execution_count": null,
      "outputs": []
    },
    {
      "cell_type": "markdown",
      "metadata": {
        "id": "OPRlL84O9b8r"
      },
      "source": [
        "# Main Body"
      ]
    },
    {
      "cell_type": "code",
      "metadata": {
        "id": "Cb_eneY79b8s"
      },
      "source": [
        "IN_AUG_PARAMS = {'w_spacing':None,\"h_spacing\":None,'w_stdMM':2.7,'h_stdMM':2.7, 'angle':5,'ob_type':None}\n",
        "OUT_AUG_PARAMS = {'scale_a':0.6,'scale_b':0.8,'angle':5,'delta_z':2}\n",
        "AUGMENT_COUNT = 15\n",
        "\n",
        "aug_type = \"inout_plane\"#or \"in_plane\" or \"out_plane\"\n",
        "bias_type = \"random\"#or \"systematic\""
      ],
      "execution_count": null,
      "outputs": []
    },
    {
      "cell_type": "code",
      "metadata": {
        "id": "ykNKV9v0EvzW"
      },
      "source": [
        "def vol_dice_score(y_pred,y_true, smooth=1e-4):\n",
        "\n",
        "    y_pred = y_pred.flatten()\n",
        "    y_true = y_true.flatten()\n",
        "\n",
        "    wp = 1\n",
        "\n",
        "    tp = wp * ((y_pred * y_true).sum())\n",
        "    fp = (y_pred * (1 - y_true)).sum()\n",
        "    fn = ((1 - y_pred) * y_true).sum()\n",
        "\n",
        "    return (2 * tp +smooth) / (2 * tp + fp + fn + smooth)"
      ],
      "execution_count": null,
      "outputs": []
    },
    {
      "cell_type": "code",
      "metadata": {
        "scrolled": false,
        "id": "_O6R9uE09b8t"
      },
      "source": [
        "aug_mask_arr_list = []\n",
        "\n",
        "def main():\n",
        "  assert aug_type in [\"in_plane\",\"out_plane\",\"inout_plane\"], \"Invalid aug_type!\"\n",
        "  assert bias_type in [\"random\",\"systematic\"], \"Invalid bias_type!\"\n",
        "\n",
        "  if aug_type==\"in_plane\":\n",
        "                      \n",
        "          IN_AUG_PARAMS[\"w_spacing\"] = spacing_W\n",
        "          IN_AUG_PARAMS[\"h_spacing\"] = spacing_H\n",
        "          IN_AUG_PARAMS[\"ob_type\"] = bias_type\n",
        "\n",
        "          ContourAug = tio.Lambda(ContourInPlaneAug(**IN_AUG_PARAMS),types_to_apply=[tio.LABEL])\n",
        "\n",
        "  elif aug_type==\"out_plane\":\n",
        "\n",
        "      ContourAug = tio.Lambda(ContourOutPlaneAug(**OUT_AUG_PARAMS), types_to_apply=[tio.LABEL])\n",
        "\n",
        "  elif aug_type==\"inout_plane\":\n",
        "\n",
        "      IN_AUG_PARAMS[\"w_spacing\"] = spacing_W\n",
        "      IN_AUG_PARAMS[\"h_spacing\"] = spacing_H\n",
        "      IN_AUG_PARAMS[\"ob_type\"] = bias_type\n",
        "\n",
        "      ContourAug = tio.Compose([\n",
        "          tio.Lambda(ContourInPlaneAug(**IN_AUG_PARAMS),types_to_apply=[tio.LABEL]),\n",
        "          tio.Lambda(ContourOutPlaneAug(**OUT_AUG_PARAMS), types_to_apply=[tio.LABEL])\n",
        "      ])\n",
        "\n",
        "\n",
        "  pbar = tqdm(range(AUGMENT_COUNT),desc=f\"Generating {aug_type} augmentation with {bias_type} bias\", position=0)\n",
        "  sub = tio.Subject(mask=tio.LabelMap(tensor=mask_arr[np.newaxis,...]))\n",
        "\n",
        "  for i in range(AUGMENT_COUNT):\n",
        "      \n",
        "      aug_sub = ContourAug(sub)\n",
        "      aug_mask_arr = aug_sub[\"mask\"][\"data\"][0].numpy()\n",
        "      aug_mask_arr_list.append(aug_mask_arr)\n",
        "      \n",
        "      k = len(img_arr)//2 #middle slice\n",
        "      dice = vol_dice_score(aug_mask_arr[k], mask_arr[k])\n",
        "      \n",
        "      plt.imshow(img_arr[k],cmap='gray')\n",
        "      plt.contour(aug_mask_arr[k], colors='red')#Synthetic ROI\n",
        "      plt.contour(mask_arr[k], colors='green')#GT ROI\n",
        "      plt.title(f\"Contour #{i+1} (DI:{dice:0.2f})\")\n",
        "      plt.show()\n",
        "      pbar.update()\n",
        "      \n",
        "#     #To export the augmented mask\n",
        "#     aug_sitk_mask = sitk.GetImageFromArray(aug_mask_arr)\n",
        "#     aug_sitk_mask.SetOrigin(sitk_img.GetOrigin())\n",
        "#     aug_sitk_mask.SetSpacing(sitk_img.GetSpacing())\n",
        "#     sitk.WriteImage(aug_sitk_mask,\"./data/aug_sitk_mask.nii.gz\")\n",
        "      \n",
        "\n",
        "main()\n"
      ],
      "execution_count": null,
      "outputs": []
    },
    {
      "cell_type": "markdown",
      "metadata": {
        "id": "xuiDY9qb9b8v"
      },
      "source": [
        "# Interactive Visualization of the GT ROI and a sample from Synthetic ROIs"
      ]
    },
    {
      "cell_type": "code",
      "metadata": {
        "id": "qrW2fU_09b8v"
      },
      "source": [
        "aug_mask_arr = aug_mask_arr_list[np.random.randint(0,len(aug_mask_arr_list))]\n",
        "\n",
        "def visualize(i):\n",
        "    \n",
        "    plt.imshow(img_arr[i],cmap='gray')\n",
        "    if mask_arr[i].sum()>0:\n",
        "        plt.contour(mask_arr[i],colors='green')\n",
        "    if aug_mask_arr[i].sum()>0:\n",
        "        plt.contour(aug_mask_arr[i],colors='red')#aug_mask_arr will be the last generated mask\n",
        "    \n",
        "    plt.title(f\"Slice:{i}, DI:{vol_dice_score(aug_mask_arr[i],mask_arr[i]):0.2f}\")\n",
        "    plt.show()\n",
        "    \n",
        "interact(visualize, i=widgets.IntSlider(len(mask_arr)//2,0,len(mask_arr),1))"
      ],
      "execution_count": null,
      "outputs": []
    }
  ]
}
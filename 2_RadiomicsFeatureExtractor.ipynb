{
 "cells": [
  {
   "cell_type": "markdown",
   "metadata": {
    "colab_type": "text",
    "id": "view-in-github"
   },
   "source": [
    "<a href=\"https://colab.research.google.com/github/sithin42/INT-PROSTATE-Contour-Stability/blob/main/2_RadiomicsFeatureExtractor.ipynb\" target=\"_parent\"><img src=\"https://colab.research.google.com/assets/colab-badge.svg\" alt=\"Open In Colab\"/></a>"
   ]
  },
  {
   "cell_type": "markdown",
   "metadata": {
    "id": "maUd2guPwzia"
   },
   "source": [
    "# **Part 2 - In Silico Contour Generation & Feature Extraction**\n",
    "\n",
    "This notebook was designed to illustrate the workflow associated with the in-silico contour generation using Torchio and feature extraction using Pyradiomics"
   ]
  },
  {
   "cell_type": "markdown",
   "metadata": {
    "id": "Nun46HTQzKWH"
   },
   "source": [
    "**Step 1:** Adjust the notebook for local and colab compatability"
   ]
  },
  {
   "cell_type": "code",
   "execution_count": null,
   "metadata": {
    "colab": {
     "base_uri": "https://localhost:8080/"
    },
    "id": "CNemjJnGiOHx",
    "outputId": "6b559b1e-33a5-48eb-f03b-271a7aefa62b"
   },
   "outputs": [],
   "source": [
    "try:\n",
    "  import google.colab\n",
    "  IN_COLAB = True\n",
    "except:\n",
    "  IN_COLAB = False\n",
    "\n",
    "ROOT_PATH = \"./\"\n",
    "#Loading the example data from github\n",
    "if IN_COLAB:\n",
    "  ROOT_PATH = \"./INT-PROSTATE-Contour-Stability\"\n",
    "  !git clone https://github.com/sithin42/INT-PROSTATE-Contour-Stability.git\n",
    "  import sys\n",
    "  sys.path.append(ROOT_PATH)\n",
    "    \n",
    "\n",
    "  "
   ]
  },
  {
   "cell_type": "markdown",
   "metadata": {
    "id": "NmH680Jszi0H"
   },
   "source": [
    "**Step 2:** Install and import the packages\n",
    "\n",
    "Apart from TorchIO introduced in the previous notebook, another important package used here as part the workflow is pyradiomics. This is an open-source python package for the extraction of Radiomics features from medical imaging.\n",
    "\n",
    "More info can be found @ https://pyradiomics.readthedocs.io/en/latest/\n",
    "\n"
   ]
  },
  {
   "cell_type": "code",
   "execution_count": null,
   "metadata": {
    "colab": {
     "base_uri": "https://localhost:8080/"
    },
    "id": "1rfcjWFT9jhN",
    "outputId": "c8af735d-c428-4911-cb6b-91062444881f"
   },
   "outputs": [],
   "source": [
    "#Requirements \n",
    "!pip install torchio\n",
    "!pip install SimpleITK\n",
    "!pip install pyradiomics\n",
    "!pip install pandas\n",
    "!pip install matplotlib\n"
   ]
  },
  {
   "cell_type": "code",
   "execution_count": null,
   "metadata": {
    "id": "jxMF-tYy9b8L"
   },
   "outputs": [],
   "source": [
    "import os\n",
    "import SimpleITK as sitk\n",
    "from tqdm import tqdm\n",
    "import numpy as np\n",
    "import radiomics\n",
    "import torchio as tio\n",
    "import pandas as pd\n",
    "from utils import ContourInPlaneAug, ContourOutPlaneAug, vol_dice_score, get_aug_fn\n",
    "\n",
    "from ipywidgets import widgets, interact\n",
    "import matplotlib.pyplot as plt"
   ]
  },
  {
   "cell_type": "code",
   "execution_count": null,
   "metadata": {
    "id": "Zai4xA-91rD0"
   },
   "outputs": [],
   "source": [
    "import logging\n",
    "# set level for all classes\n",
    "logger = logging.getLogger(\"radiomics\")\n",
    "logger.setLevel(logging.ERROR)#To ignore feature warnings"
   ]
  },
  {
   "cell_type": "markdown",
   "metadata": {
    "id": "OG5nAZyi0JbZ"
   },
   "source": [
    "**Step 3:** Loading and visualizing the data\n",
    "\n",
    "Here PID can either be set to \"PCAMPMRI-00002\" or \"PCAMPMRI-00001\". These are the two patients extracted from QIN prostate dataset. \n",
    "\n",
    "If you are running this notebook locally, you can find the data inside the `data` folder.\n",
    "\n",
    "If you are running this notebook on Colab, you can find the data inside the following location: `INT-PROSTATE-Contour-Stability/data `"
   ]
  },
  {
   "cell_type": "code",
   "execution_count": null,
   "metadata": {
    "id": "xT2nV8b29b8Z"
   },
   "outputs": [],
   "source": [
    "PID = \"PCAMPMRI-00002\"\n",
    "\n",
    "img_path = os.path.join(ROOT_PATH,\"data\",PID,\"image.nii.gz\")\n",
    "mask_path = os.path.join(ROOT_PATH,\"data\",PID,\"mask.nii.gz\")\n",
    "  "
   ]
  },
  {
   "cell_type": "markdown",
   "metadata": {
    "id": "xwVJ_9-10XJY"
   },
   "source": [
    "Quick load and visualization of data using TorchIO"
   ]
  },
  {
   "cell_type": "code",
   "execution_count": null,
   "metadata": {
    "colab": {
     "base_uri": "https://localhost:8080/",
     "height": 293
    },
    "id": "TUG1rGzc0Ah2",
    "outputId": "074f6bb3-2d0d-46a2-b8cc-cefcbd04921c"
   },
   "outputs": [],
   "source": [
    "sub = tio.Subject(img=tio.ScalarImage(img_path),mask=tio.LabelMap(mask_path))\n",
    "sub.plot()#Fast Visualization"
   ]
  },
  {
   "cell_type": "markdown",
   "metadata": {
    "id": "BtXXaPJE0apk"
   },
   "source": [
    "Interactive visualization"
   ]
  },
  {
   "cell_type": "code",
   "execution_count": null,
   "metadata": {
    "colab": {
     "base_uri": "https://localhost:8080/",
     "height": 318,
     "referenced_widgets": [
      "64ec707c351447638b30516d0f5f0601",
      "7543a029720549b2a6b2a30d9c664c76",
      "24153a360ac443d1bbcdf7348957c359",
      "763e54793f16426a98d7812771c2e42a",
      "edb00f89588344f2b6f876b2aafc4810",
      "b1f2fbdd2776435ebad35bdfdaaf9be0",
      "e31f8f37606542769f844026a1788731"
     ]
    },
    "id": "Li8NHQDC9b8d",
    "outputId": "ff6b2be3-3a7f-4ed1-cd68-c958f993d540"
   },
   "outputs": [],
   "source": [
    "#Interactive Visualization\n",
    "\n",
    "sitk_img = sitk.ReadImage(img_path)\n",
    "sitk_mask = sitk.ReadImage(mask_path)\n",
    "\n",
    "img_arr = sitk.GetArrayFromImage(sitk_img)#Z,X,Y\n",
    "mask_arr = sitk.GetArrayFromImage(sitk_mask)\n",
    "\n",
    "spacing_W, spacing_H, _ = sitk_img.GetSpacing()\n",
    "\n",
    "def visualize(i):\n",
    "    \n",
    "    plt.imshow(img_arr[i],cmap='gray')\n",
    "    if mask_arr[i].sum()>0:\n",
    "        plt.contour(mask_arr[i])\n",
    "    plt.show()\n",
    "    \n",
    "interact(visualize, i=widgets.IntSlider(len(mask_arr)//2,0,len(mask_arr)-1,1))"
   ]
  },
  {
   "cell_type": "markdown",
   "metadata": {
    "id": "yssaZKDoPM33"
   },
   "source": [
    "**Step 4:** Classical Radiomic Feature Extraction Pipeline\n",
    "\n",
    "Here we are simply extracting features using pyradiomics based on the parameter settings\n",
    "\n",
    "If you are running this notebook locally, you can find the parameter settings inside the location: `paramSettings/`\n",
    "\n",
    "If you are running this notebook on google colab, you can find the parameter settings inside the location: `INT-PROSTATE-Contour-Stability/paramSettings/`"
   ]
  },
  {
   "cell_type": "code",
   "execution_count": null,
   "metadata": {
    "id": "waJU_UP2PMrE"
   },
   "outputs": [],
   "source": [
    "PATIENT_IDS = [\"PCAMPMRI-00001\",\"PCAMPMRI-00002\"]\n",
    "PARAM_SETTINGS = os.path.join(ROOT_PATH,\"paramSettings/StudySettings3D.yaml\")"
   ]
  },
  {
   "cell_type": "code",
   "execution_count": null,
   "metadata": {
    "id": "fMvdbHn4PMnZ"
   },
   "outputs": [],
   "source": [
    "def extract_features(pids):\n",
    "\n",
    "  features = []\n",
    "\n",
    "  pbar = tqdm(range(len(PATIENT_IDS)), desc=\"Extracting Features\")\n",
    "\n",
    "  extractor = radiomics.featureextractor.RadiomicsFeatureExtractor(PARAM_SETTINGS,verbosity=False)\n",
    "  \n",
    "  for id in pids:\n",
    "\n",
    "    img_path = os.path.join(ROOT_PATH,\"data\",id,\"image.nii.gz\")\n",
    "    mask_path = os.path.join(ROOT_PATH,\"data\",id,\"mask.nii.gz\")\n",
    "\n",
    "    featureVector = extractor.execute(img_path,mask_path)\n",
    "\n",
    "    featureVector[\"id\"] = id\n",
    "    featureVector[\"dice\"] = 1.0 #because this is the ground truth ROI\n",
    "    featureVector[\"judge\"] = 0\n",
    "\n",
    "    features.append(featureVector)\n",
    "\n",
    "    pbar.update()\n",
    "\n",
    "  df = pd.DataFrame(features)\n",
    "\n",
    "  return df\n"
   ]
  },
  {
   "cell_type": "markdown",
   "metadata": {
    "id": "sqNYrdqB6R09"
   },
   "source": [
    "Putting it all together"
   ]
  },
  {
   "cell_type": "code",
   "execution_count": null,
   "metadata": {
    "colab": {
     "base_uri": "https://localhost:8080/",
     "height": 262
    },
    "id": "pLEivfL-PMjA",
    "outputId": "dc38ff70-fe62-42ba-fa33-5ee1ece09ad8"
   },
   "outputs": [],
   "source": [
    "df = extract_features(PATIENT_IDS)\n",
    "if not os.path.exists(\"./results\"):\n",
    "  os.makedirs(\"./results\")\n",
    "df.to_csv(\"./results/org_feats.csv\")\n",
    "df.head()"
   ]
  },
  {
   "cell_type": "markdown",
   "metadata": {
    "id": "YDgpg6NMS9qa"
   },
   "source": [
    "**Step 5:** In-Silico Contour Generation & Feature Extraction\n",
    "\n",
    "This function synthetically generate the contour dynamically based on the augmentation scenario specified and radiomic features are extracted from the image-synthetic ROI pair."
   ]
  },
  {
   "cell_type": "code",
   "execution_count": null,
   "metadata": {
    "id": "XKCTPzr-PMfZ"
   },
   "outputs": [],
   "source": [
    "def extract_aug_features(pids, aug_type, bias_type, aug_count):\n",
    "    \n",
    "    features = []\n",
    "\n",
    "    pbar = tqdm(range(aug_count*len(pids)), desc=\"Extracting Features\", position=0)\n",
    "\n",
    "    extractor = radiomics.featureextractor.RadiomicsFeatureExtractor(PARAM_SETTINGS,verbosity=False)\n",
    "    \n",
    "    for pid in pids:\n",
    "\n",
    "      img = sitk.ReadImage(os.path.join(ROOT_PATH,\"data\",pid,\"image.nii.gz\"))\n",
    "      mask = sitk.ReadImage(os.path.join(ROOT_PATH,\"data\",pid,\"mask.nii.gz\"))\n",
    "\n",
    "      img_arr = sitk.GetArrayFromImage(img)\n",
    "      mask_arr = sitk.GetArrayFromImage(mask)\n",
    "\n",
    "      aug_fn = get_aug_fn(aug_type, bias_type, img.GetSpacing(), IN_AUG_PARAMS, OUT_AUG_PARAMS)\n",
    "      subject = tio.Subject(img=tio.ScalarImage(tensor=img_arr[np.newaxis,...]),mask=tio.LabelMap(tensor=mask_arr[np.newaxis,...]))\n",
    "\n",
    "      for i in range(aug_count):\n",
    "\n",
    "          pbar.set_description(f\"Extracting Features {pid} - Synthetic ROI #{i+1}\")\n",
    "\n",
    "          aug_subject = aug_fn(subject)\n",
    "          aug_mask_arr = aug_subject[\"mask\"][\"data\"][0].numpy()\n",
    "\n",
    "          dice = vol_dice_score(aug_mask_arr,mask_arr)\n",
    "\n",
    "          aug_mask = sitk.GetImageFromArray(aug_mask_arr)\n",
    "          aug_mask.SetSpacing(img.GetSpacing())\n",
    "          aug_mask.SetOrigin(img.GetOrigin())\n",
    "\n",
    "          \n",
    "          featureVector = extractor.execute(img,aug_mask)\n",
    "\n",
    "          featureVector['id'] = pid\n",
    "          featureVector['dice'] = dice\n",
    "          featureVector['judge'] = i+1\n",
    "\n",
    "          features.append(featureVector)\n",
    "          pbar.update()\n",
    "            \n",
    "                    \n",
    "    aug_df = pd.DataFrame(features)\n",
    "\n",
    "    return aug_df\n"
   ]
  },
  {
   "cell_type": "markdown",
   "metadata": {
    "id": "zDqevAnc_vN8"
   },
   "source": [
    "**Step 6:** Parameters associated with the augmentation scenarios and feature extraction\n",
    "\n",
    "You can update the parameters below and re-run the cells in step (6) to test various augmentation scenarios\n",
    "\n",
    "Please consider the following augmentation scenarios\n",
    "\n",
    "1.   In-Plane Augmentation with Random Bias (AUG_TYPE = \"in_plane\", BIAS_TYPE=\"random\")\n",
    "2.   In-Plane Augmentation with systematic bias (AUG_TYPE = \"in_plane\", BIAS_TYPE=\"systematic\")\n",
    "3.   Out-Plane Augmentation (AUG_TYPE = \"out_plane\", BIAS_TYPE=\"\")\n",
    "4.   In&Out-Plane Augmentation with Random bias (AUG_TYPE = \"inout_plane\", BIAS_TYPE=\"random\")\n",
    "5.   In&Out-Plane augmentation with Systematic bias (AUG_TYPE = \"inout_plane\", BIAS_TYPE=\"systematic\")\n",
    "\n",
    "\n",
    "Let's do this!"
   ]
  },
  {
   "cell_type": "code",
   "execution_count": null,
   "metadata": {
    "id": "JJcGUxwO_eIc"
   },
   "outputs": [],
   "source": [
    "'''\n",
    "IN_AUG_PARAMS: \n",
    "w_spacing and h_spacing - represents pixel spacing and will be computed dynamically; \n",
    "w_stdMM and h_stdMM - indicates the standard deviation associated with the variability of contour allowed in X and Y axis in mm\n",
    "angle - specifies the bound of contour rotation allowed\n",
    "ob_type - essentially is the bias type\n",
    "\n",
    "OUT_AUG_PARAMS:\n",
    "scale_a and scale_b - specifies how the shifted boundary contour needs to be scaled with respect to the closest ROI\n",
    "delta_z - essentially specifies the maximum number of times the random shift can be performed on either sides. Higher number increases the likelyhood of shift operation.\n",
    "\n",
    "AUGMENT_COUNT - specifies the number of synthetic contours that needs to be generated for a single input GT mask\n",
    "\n",
    "AUG_TYPE - specifies the augmentation types. Can take values in_plane, out_plane, or inout_plane\n",
    "\n",
    "BIAS TYPE - specifies the bias type. Can take values \"random\" or \"systematic\" for in or inout_plane augmentations, for out_plane augmentation the bias should be an empty string\n",
    "\n",
    "'''\n",
    "\n",
    "AUG_COUNT = 5\n",
    "AUG_TYPE = \"inout_plane\"\n",
    "BIAS_TYPE = \"random\"\n",
    "\n",
    "IN_AUG_PARAMS = {'w_spacing':None,\"h_spacing\":None,'w_stdMM':2.7,'h_stdMM':2.7, 'angle':5,'bias_type':None}\n",
    "OUT_AUG_PARAMS = {'scale_a':0.6,'scale_b':0.8,'angle':5,'delta_z':2}\n",
    "\n",
    "PATIENT_IDS = [\"PCAMPMRI-00001\",\"PCAMPMRI-00002\"]\n",
    "PARAM_SETTINGS = os.path.join(ROOT_PATH,\"paramSettings/StudySettings3D.yaml\")"
   ]
  },
  {
   "cell_type": "code",
   "execution_count": null,
   "metadata": {
    "colab": {
     "base_uri": "https://localhost:8080/",
     "height": 457
    },
    "id": "MVCDF-T9PLB3",
    "outputId": "762dbe86-9679-47f8-817f-6e4ea9166273"
   },
   "outputs": [],
   "source": [
    "aug_df = extract_aug_features(PATIENT_IDS,AUG_TYPE,BIAS_TYPE,AUG_COUNT)\n",
    "out_path = f\"./results/{AUG_TYPE}_{BIAS_TYPE}\"\n",
    "\n",
    "if not os.path.exists(out_path):\n",
    "  os.makedirs(out_path)\n",
    "aug_df.to_csv(os.path.join(out_path,\"aug_feats.csv\"))\n",
    "aug_df.head()\n"
   ]
  }
 ],
 "metadata": {
  "colab": {
   "collapsed_sections": [],
   "include_colab_link": true,
   "name": "2. RadiomicsFeatureExtractor.ipynb",
   "provenance": []
  },
  "kernelspec": {
   "display_name": "Python 3",
   "language": "python",
   "name": "python3"
  },
  "language_info": {
   "codemirror_mode": {
    "name": "ipython",
    "version": 3
   },
   "file_extension": ".py",
   "mimetype": "text/x-python",
   "name": "python",
   "nbconvert_exporter": "python",
   "pygments_lexer": "ipython3",
   "version": "3.7.6"
  },
  "widgets": {
   "application/vnd.jupyter.widget-state+json": {
    "24153a360ac443d1bbcdf7348957c359": {
     "model_module": "@jupyter-widgets/controls",
     "model_module_version": "1.5.0",
     "model_name": "IntSliderModel",
     "state": {
      "_dom_classes": [],
      "_model_module": "@jupyter-widgets/controls",
      "_model_module_version": "1.5.0",
      "_model_name": "IntSliderModel",
      "_view_count": null,
      "_view_module": "@jupyter-widgets/controls",
      "_view_module_version": "1.5.0",
      "_view_name": "IntSliderView",
      "continuous_update": true,
      "description": "i",
      "description_tooltip": null,
      "disabled": false,
      "layout": "IPY_MODEL_b1f2fbdd2776435ebad35bdfdaaf9be0",
      "max": 30,
      "min": 0,
      "orientation": "horizontal",
      "readout": true,
      "readout_format": "d",
      "step": 1,
      "style": "IPY_MODEL_edb00f89588344f2b6f876b2aafc4810",
      "value": 15
     }
    },
    "64ec707c351447638b30516d0f5f0601": {
     "model_module": "@jupyter-widgets/controls",
     "model_module_version": "1.5.0",
     "model_name": "VBoxModel",
     "state": {
      "_dom_classes": [
       "widget-interact"
      ],
      "_model_module": "@jupyter-widgets/controls",
      "_model_module_version": "1.5.0",
      "_model_name": "VBoxModel",
      "_view_count": null,
      "_view_module": "@jupyter-widgets/controls",
      "_view_module_version": "1.5.0",
      "_view_name": "VBoxView",
      "box_style": "",
      "children": [
       "IPY_MODEL_24153a360ac443d1bbcdf7348957c359",
       "IPY_MODEL_763e54793f16426a98d7812771c2e42a"
      ],
      "layout": "IPY_MODEL_7543a029720549b2a6b2a30d9c664c76"
     }
    },
    "7543a029720549b2a6b2a30d9c664c76": {
     "model_module": "@jupyter-widgets/base",
     "model_module_version": "1.2.0",
     "model_name": "LayoutModel",
     "state": {
      "_model_module": "@jupyter-widgets/base",
      "_model_module_version": "1.2.0",
      "_model_name": "LayoutModel",
      "_view_count": null,
      "_view_module": "@jupyter-widgets/base",
      "_view_module_version": "1.2.0",
      "_view_name": "LayoutView",
      "align_content": null,
      "align_items": null,
      "align_self": null,
      "border": null,
      "bottom": null,
      "display": null,
      "flex": null,
      "flex_flow": null,
      "grid_area": null,
      "grid_auto_columns": null,
      "grid_auto_flow": null,
      "grid_auto_rows": null,
      "grid_column": null,
      "grid_gap": null,
      "grid_row": null,
      "grid_template_areas": null,
      "grid_template_columns": null,
      "grid_template_rows": null,
      "height": null,
      "justify_content": null,
      "justify_items": null,
      "left": null,
      "margin": null,
      "max_height": null,
      "max_width": null,
      "min_height": null,
      "min_width": null,
      "object_fit": null,
      "object_position": null,
      "order": null,
      "overflow": null,
      "overflow_x": null,
      "overflow_y": null,
      "padding": null,
      "right": null,
      "top": null,
      "visibility": null,
      "width": null
     }
    },
    "763e54793f16426a98d7812771c2e42a": {
     "model_module": "@jupyter-widgets/output",
     "model_module_version": "1.0.0",
     "model_name": "OutputModel",
     "state": {
      "_dom_classes": [],
      "_model_module": "@jupyter-widgets/output",
      "_model_module_version": "1.0.0",
      "_model_name": "OutputModel",
      "_view_count": null,
      "_view_module": "@jupyter-widgets/output",
      "_view_module_version": "1.0.0",
      "_view_name": "OutputView",
      "layout": "IPY_MODEL_e31f8f37606542769f844026a1788731",
      "msg_id": "",
      "outputs": [
       {
        "data": {
         "image/png": "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\n",
         "text/plain": "<Figure size 432x288 with 1 Axes>"
        },
        "metadata": {
         "needs_background": "light"
        },
        "output_type": "display_data"
       }
      ]
     }
    },
    "b1f2fbdd2776435ebad35bdfdaaf9be0": {
     "model_module": "@jupyter-widgets/base",
     "model_module_version": "1.2.0",
     "model_name": "LayoutModel",
     "state": {
      "_model_module": "@jupyter-widgets/base",
      "_model_module_version": "1.2.0",
      "_model_name": "LayoutModel",
      "_view_count": null,
      "_view_module": "@jupyter-widgets/base",
      "_view_module_version": "1.2.0",
      "_view_name": "LayoutView",
      "align_content": null,
      "align_items": null,
      "align_self": null,
      "border": null,
      "bottom": null,
      "display": null,
      "flex": null,
      "flex_flow": null,
      "grid_area": null,
      "grid_auto_columns": null,
      "grid_auto_flow": null,
      "grid_auto_rows": null,
      "grid_column": null,
      "grid_gap": null,
      "grid_row": null,
      "grid_template_areas": null,
      "grid_template_columns": null,
      "grid_template_rows": null,
      "height": null,
      "justify_content": null,
      "justify_items": null,
      "left": null,
      "margin": null,
      "max_height": null,
      "max_width": null,
      "min_height": null,
      "min_width": null,
      "object_fit": null,
      "object_position": null,
      "order": null,
      "overflow": null,
      "overflow_x": null,
      "overflow_y": null,
      "padding": null,
      "right": null,
      "top": null,
      "visibility": null,
      "width": null
     }
    },
    "e31f8f37606542769f844026a1788731": {
     "model_module": "@jupyter-widgets/base",
     "model_module_version": "1.2.0",
     "model_name": "LayoutModel",
     "state": {
      "_model_module": "@jupyter-widgets/base",
      "_model_module_version": "1.2.0",
      "_model_name": "LayoutModel",
      "_view_count": null,
      "_view_module": "@jupyter-widgets/base",
      "_view_module_version": "1.2.0",
      "_view_name": "LayoutView",
      "align_content": null,
      "align_items": null,
      "align_self": null,
      "border": null,
      "bottom": null,
      "display": null,
      "flex": null,
      "flex_flow": null,
      "grid_area": null,
      "grid_auto_columns": null,
      "grid_auto_flow": null,
      "grid_auto_rows": null,
      "grid_column": null,
      "grid_gap": null,
      "grid_row": null,
      "grid_template_areas": null,
      "grid_template_columns": null,
      "grid_template_rows": null,
      "height": null,
      "justify_content": null,
      "justify_items": null,
      "left": null,
      "margin": null,
      "max_height": null,
      "max_width": null,
      "min_height": null,
      "min_width": null,
      "object_fit": null,
      "object_position": null,
      "order": null,
      "overflow": null,
      "overflow_x": null,
      "overflow_y": null,
      "padding": null,
      "right": null,
      "top": null,
      "visibility": null,
      "width": null
     }
    },
    "edb00f89588344f2b6f876b2aafc4810": {
     "model_module": "@jupyter-widgets/controls",
     "model_module_version": "1.5.0",
     "model_name": "SliderStyleModel",
     "state": {
      "_model_module": "@jupyter-widgets/controls",
      "_model_module_version": "1.5.0",
      "_model_name": "SliderStyleModel",
      "_view_count": null,
      "_view_module": "@jupyter-widgets/base",
      "_view_module_version": "1.2.0",
      "_view_name": "StyleView",
      "description_width": "",
      "handle_color": null
     }
    }
   }
  }
 },
 "nbformat": 4,
 "nbformat_minor": 1
}

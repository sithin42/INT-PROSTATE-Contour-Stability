{
  "nbformat": 4,
  "nbformat_minor": 0,
  "metadata": {
    "kernelspec": {
      "display_name": "Python 3",
      "language": "python",
      "name": "python3"
    },
    "language_info": {
      "codemirror_mode": {
        "name": "ipython",
        "version": 3
      },
      "file_extension": ".py",
      "mimetype": "text/x-python",
      "name": "python",
      "nbconvert_exporter": "python",
      "pygments_lexer": "ipython3",
      "version": "3.7.6"
    },
    "colab": {
      "name": "RadiomicsFeatureExtractor.ipynb",
      "provenance": [],
      "collapsed_sections": [],
      "include_colab_link": true
    }
  },
  "cells": [
    {
      "cell_type": "markdown",
      "metadata": {
        "id": "view-in-github",
        "colab_type": "text"
      },
      "source": [
        "<a href=\"https://colab.research.google.com/github/sithin42/INT-PROSTATE-Contour-Stability/blob/main/RadiomicsFeatureExtractor.ipynb\" target=\"_parent\"><img src=\"https://colab.research.google.com/assets/colab-badge.svg\" alt=\"Open In Colab\"/></a>"
      ]
    },
    {
      "cell_type": "code",
      "metadata": {
        "id": "CNemjJnGiOHx"
      },
      "source": [
        "try:\n",
        "  import google.colab\n",
        "  IN_COLAB = True\n",
        "except:\n",
        "  IN_COLAB = False\n",
        "\n",
        "ROOT_PATH = \"./\"\n",
        "#Loading the example data from github\n",
        "if IN_COLAB:\n",
        "  ROOT_PATH = \"./INT-PROSTATE-Contour-Stability\"\n",
        "  !git clone https://github.com/sithin42/INT-PROSTATE-Contour-Stability.git\n",
        "  import sys\n",
        "  sys.path.append(ROOT_PATH)\n",
        "  "
      ],
      "execution_count": null,
      "outputs": []
    },
    {
      "cell_type": "code",
      "metadata": {
        "id": "1rfcjWFT9jhN"
      },
      "source": [
        "#Requirements \n",
        "!pip install torchio\n",
        "!pip install SimpleITK\n",
        "!pip install pyradiomics\n",
        "!pip install pandas\n"
      ],
      "execution_count": null,
      "outputs": []
    },
    {
      "cell_type": "code",
      "metadata": {
        "id": "jxMF-tYy9b8L"
      },
      "source": [
        "import os\n",
        "import SimpleITK as sitk\n",
        "from tqdm import tqdm\n",
        "import numpy as np\n",
        "from concurrent.futures import ThreadPoolExecutor\n",
        "import radiomics\n",
        "import torchio as tio\n",
        "import pandas as pd\n",
        "from utils import ContourInPlaneAug, ContourOutPlaneAug, vol_dice_score, get_aug_fn\n",
        "\n",
        "from ipywidgets import widgets, interact\n",
        "import matplotlib.pyplot as plt"
      ],
      "execution_count": null,
      "outputs": []
    },
    {
      "cell_type": "code",
      "metadata": {
        "id": "Zai4xA-91rD0"
      },
      "source": [
        "import logging\n",
        "# set level for all classes\n",
        "logger = logging.getLogger(\"radiomics\")\n",
        "logger.setLevel(logging.ERROR)#To ignore feature warnings"
      ],
      "execution_count": null,
      "outputs": []
    },
    {
      "cell_type": "markdown",
      "metadata": {
        "id": "9uZWAtyY9b8W"
      },
      "source": [
        "# Data IO"
      ]
    },
    {
      "cell_type": "code",
      "metadata": {
        "id": "xT2nV8b29b8Z"
      },
      "source": [
        "PID = \"PCAMPMRI-00002\"\n",
        "\n",
        "img_path = os.path.join(ROOT_PATH,\"data\",PID,\"image.nii.gz\")\n",
        "mask_path = os.path.join(ROOT_PATH,\"data\",PID,\"mask.nii.gz\")\n",
        "  \n",
        "sub = tio.Subject(img=tio.ScalarImage(img_path),mask=tio.LabelMap(mask_path))\n",
        "sub.plot()#Fast Visualization"
      ],
      "execution_count": null,
      "outputs": []
    },
    {
      "cell_type": "code",
      "metadata": {
        "id": "Li8NHQDC9b8d"
      },
      "source": [
        "#Interactive Visualization\n",
        "\n",
        "sitk_img = sitk.ReadImage(img_path)\n",
        "sitk_mask = sitk.ReadImage(mask_path)\n",
        "\n",
        "img_arr = sitk.GetArrayFromImage(sitk_img)#Z,X,Y\n",
        "mask_arr = sitk.GetArrayFromImage(sitk_mask)\n",
        "\n",
        "spacing_W, spacing_H, _ = sitk_img.GetSpacing()\n",
        "\n",
        "def visualize(i):\n",
        "    \n",
        "    plt.imshow(img_arr[i],cmap='gray')\n",
        "    if mask_arr[i].sum()>0:\n",
        "        plt.contour(mask_arr[i])\n",
        "    plt.show()\n",
        "    \n",
        "interact(visualize, i=widgets.IntSlider(len(mask_arr)//2,0,len(mask_arr),1))"
      ],
      "execution_count": null,
      "outputs": []
    },
    {
      "cell_type": "markdown",
      "metadata": {
        "id": "yssaZKDoPM33"
      },
      "source": [
        "#Classical Radiomics Feature Extraction"
      ]
    },
    {
      "cell_type": "code",
      "metadata": {
        "id": "waJU_UP2PMrE"
      },
      "source": [
        "PATIENT_IDS = [\"PCAMPMRI-00001\",\"PCAMPMRI-00002\"]\n",
        "PARAM_SETTINGS = os.path.join(ROOT_PATH,\"paramSettings/StudySettings3D.yaml\")"
      ],
      "execution_count": null,
      "outputs": []
    },
    {
      "cell_type": "code",
      "metadata": {
        "id": "s7W3S1poTfLk"
      },
      "source": [
        "extractor = radiomics.featureextractor.RadiomicsFeatureExtractor(PARAM_SETTINGS,verbosity=False)"
      ],
      "execution_count": null,
      "outputs": []
    },
    {
      "cell_type": "code",
      "metadata": {
        "id": "fMvdbHn4PMnZ"
      },
      "source": [
        "def extract_features(pids):\n",
        "\n",
        "  features = []\n",
        "\n",
        "  pbar = tqdm(range(len(PATIENT_IDS)), desc=\"Extracting Features\")\n",
        "\n",
        "  for id in pids:\n",
        "\n",
        "    img_path = os.path.join(ROOT_PATH,\"data\",id,\"image.nii.gz\")\n",
        "    mask_path = os.path.join(ROOT_PATH,\"data\",id,\"mask.nii.gz\")\n",
        "\n",
        "    featureVector = extractor.execute(img_path,mask_path)\n",
        "\n",
        "    featureVector[\"id\"] = id\n",
        "    featureVector[\"dice\"] = 1.0 #because this is the ground truth ROI\n",
        "    featureVector[\"judge\"] = 0\n",
        "\n",
        "    features.append(featureVector)\n",
        "\n",
        "    pbar.update()\n",
        "\n",
        "  df = pd.DataFrame(features)\n",
        "\n",
        "  return df\n"
      ],
      "execution_count": null,
      "outputs": []
    },
    {
      "cell_type": "code",
      "metadata": {
        "id": "pLEivfL-PMjA"
      },
      "source": [
        "df = extract_features(PATIENT_IDS)\n",
        "if not os.path.exists(\"./results\"):\n",
        "  os.makedirs(\"./results\")\n",
        "df.to_csv(\"./results/org_feats.csv\")\n",
        "df.head()"
      ],
      "execution_count": null,
      "outputs": []
    },
    {
      "cell_type": "markdown",
      "metadata": {
        "id": "YDgpg6NMS9qa"
      },
      "source": [
        "#In-Silico Contour Generation & Feature Extraction"
      ]
    },
    {
      "cell_type": "code",
      "metadata": {
        "id": "nITQ3l5TrH8j"
      },
      "source": [
        "\n",
        "AUG_COUNT = 15\n",
        "AUG_TYPE = \"in_plane\"\n",
        "BIAS_TYPE = \"random\"\n",
        "\n",
        "IN_AUG_PARAMS = {'w_spacing':None,\"h_spacing\":None,'w_stdMM':2.7,'h_stdMM':2.7, 'angle':5,'bias_type':None}\n",
        "OUT_AUG_PARAMS = {'scale_a':0.6,'scale_b':0.8,'angle':5,'delta_z':2}\n",
        "\n",
        "PATIENT_IDS = [\"PCAMPMRI-00001\",\"PCAMPMRI-00002\"]\n",
        "PARAM_SETTINGS = os.path.join(ROOT_PATH,\"paramSettings/StudySettings3D.yaml\")"
      ],
      "execution_count": null,
      "outputs": []
    },
    {
      "cell_type": "code",
      "metadata": {
        "id": "YfVk7Yh7wT_m"
      },
      "source": [
        "extractor = radiomics.featureextractor.RadiomicsFeatureExtractor(PARAM_SETTINGS,verbosity=False)"
      ],
      "execution_count": null,
      "outputs": []
    },
    {
      "cell_type": "code",
      "metadata": {
        "id": "XKCTPzr-PMfZ"
      },
      "source": [
        "def extract_aug_features(pids, aug_type, bias_type, aug_count):\n",
        "    \n",
        "    features = []\n",
        "\n",
        "    pbar = tqdm(range(aug_count*len(pids)), desc=\"Extracting Features\", position=0)\n",
        "\n",
        "    for pid in pids:\n",
        "\n",
        "      img = sitk.ReadImage(os.path.join(ROOT_PATH,\"data\",pid,\"image.nii.gz\"))\n",
        "      mask = sitk.ReadImage(os.path.join(ROOT_PATH,\"data\",pid,\"mask.nii.gz\"))\n",
        "\n",
        "      img_arr = sitk.GetArrayFromImage(img)\n",
        "      mask_arr = sitk.GetArrayFromImage(mask)\n",
        "\n",
        "      aug_fn = get_aug_fn(aug_type, bias_type, img.GetSpacing(), IN_AUG_PARAMS, OUT_AUG_PARAMS)\n",
        "      subject = tio.Subject(img=tio.ScalarImage(tensor=img_arr[np.newaxis,...]),mask=tio.LabelMap(tensor=mask_arr[np.newaxis,...]))\n",
        "\n",
        "      for i in range(aug_count):\n",
        "\n",
        "          pbar.set_description(f\"Extracting Features {pid} - Synthetic ROI #{i+1}\")\n",
        "\n",
        "          aug_subject = aug_fn(subject)\n",
        "          aug_mask_arr = aug_subject[\"mask\"][\"data\"][0].numpy()\n",
        "\n",
        "          dice = vol_dice_score(aug_mask_arr,mask_arr)\n",
        "\n",
        "          aug_mask = sitk.GetImageFromArray(aug_mask_arr)\n",
        "          aug_mask.SetSpacing(img.GetSpacing())\n",
        "          aug_mask.SetOrigin(img.GetOrigin())\n",
        "\n",
        "          featureVector = extractor.execute(img,aug_mask)\n",
        "\n",
        "          featureVector['id'] = pid\n",
        "          featureVector['dice'] = dice\n",
        "          featureVector['judge'] = i+1\n",
        "\n",
        "          features.append(featureVector)\n",
        "          pbar.update()\n",
        "            \n",
        "                    \n",
        "    aug_df = pd.DataFrame(features)\n",
        "\n",
        "    return aug_df\n"
      ],
      "execution_count": null,
      "outputs": []
    },
    {
      "cell_type": "code",
      "metadata": {
        "id": "MVCDF-T9PLB3"
      },
      "source": [
        "aug_df = extract_aug_features(PATIENT_IDS,AUG_TYPE,BIAS_TYPE,AUG_COUNT)\n",
        "\n",
        "if not os.path.exists(\"./results\"):\n",
        "  os.makedirs(\"./results\")\n",
        "aug_df.to_csv(\"./results/aug_feats.csv\")\n",
        "aug_df.head()"
      ],
      "execution_count": null,
      "outputs": []
    }
  ]
}